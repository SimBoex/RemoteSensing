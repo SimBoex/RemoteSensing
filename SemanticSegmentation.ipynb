{
 "cells": [
  {
   "cell_type": "code",
   "execution_count": null,
   "metadata": {},
   "outputs": [],
   "source": [
    "''' Dataset contains 6 tile  with different images:\n",
    "the labels are:\n",
    "- Building (#3C1098)\n",
    "- Land (#8429F6)\n",
    "- Road (#6EC1E4)\n",
    "- Vegetation (#FEDD3A)\n",
    "- Water (#E2A929)\n",
    "- Unlabeled (#9B9B9B)\n",
    "\n",
    "they are encoded in exadecimal \n",
    "\n",
    "from: https://www.kaggle.com/humansintheloop/semantic-segmentation-of-aerial-imagery\n",
    "'''"
   ]
  },
  {
   "cell_type": "code",
   "execution_count": 6,
   "metadata": {},
   "outputs": [],
   "source": [
    "import os\n",
    "import cv2\n",
    "import numpy as np\n",
    "\n",
    "from matplotlib import pyplot as plt\n",
    "from patchify import patchify\n",
    "from PIL import Image\n",
    "#import segmentation_models as sm\n",
    "from tensorflow.keras.metrics import MeanIoU\n",
    "\n",
    "from sklearn.preprocessing import MinMaxScaler, StandardScaler"
   ]
  },
  {
   "cell_type": "code",
   "execution_count": 7,
   "metadata": {},
   "outputs": [],
   "source": [
    "PATH  = \"/Users/simoneboesso/Desktop/RemoteSensing/Semantic segmentation dataset\""
   ]
  },
  {
   "cell_type": "code",
   "execution_count": null,
   "metadata": {},
   "outputs": [],
   "source": []
  }
 ],
 "metadata": {
  "kernelspec": {
   "display_name": "Python 3",
   "language": "python",
   "name": "python3"
  },
  "language_info": {
   "codemirror_mode": {
    "name": "ipython",
    "version": 3
   },
   "file_extension": ".py",
   "mimetype": "text/x-python",
   "name": "python",
   "nbconvert_exporter": "python",
   "pygments_lexer": "ipython3",
   "version": "3.11.9"
  }
 },
 "nbformat": 4,
 "nbformat_minor": 2
}
